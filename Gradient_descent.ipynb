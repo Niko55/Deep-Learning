{
  "nbformat": 4,
  "nbformat_minor": 0,
  "metadata": {
    "colab": {
      "name": "Gradient_descent.ipynb",
      "provenance": [],
      "include_colab_link": true
    },
    "kernelspec": {
      "name": "python3",
      "display_name": "Python 3"
    }
  },
  "cells": [
    {
      "cell_type": "markdown",
      "metadata": {
        "id": "view-in-github",
        "colab_type": "text"
      },
      "source": [
        "<a href=\"https://colab.research.google.com/github/Niko55/Deep-Learning/blob/master/Gradient_descent.ipynb\" target=\"_parent\"><img src=\"https://colab.research.google.com/assets/colab-badge.svg\" alt=\"Open In Colab\"/></a>"
      ]
    },
    {
      "cell_type": "code",
      "metadata": {
        "id": "EIl3Msd1pL-H",
        "colab_type": "code",
        "colab": {}
      },
      "source": [
        "import warnings\n",
        "warnings.filterwarnings('ignore')\n",
        "import numpy as np \n",
        "import math\n",
        "import random\n",
        "import matplotlib.pyplot as plt\n",
        "%matplotlib inline"
      ],
      "execution_count": 0,
      "outputs": []
    },
    {
      "cell_type": "code",
      "metadata": {
        "id": "jvT7fUrMpsHL",
        "colab_type": "code",
        "colab": {}
      },
      "source": [
        "np.random.seed(1)\n",
        "data = np.random.randn(500, 2)"
      ],
      "execution_count": 0,
      "outputs": []
    },
    {
      "cell_type": "code",
      "metadata": {
        "id": "_2vnETsPp1Mo",
        "colab_type": "code",
        "colab": {
          "base_uri": "https://localhost:8080/",
          "height": 34
        },
        "outputId": "a90d791e-21e6-46b4-b2c0-54ae609def02"
      },
      "source": [
        "print(data[0])\n",
        "#print(data[0,0])   #X_value\n",
        "#print(data[0, 1])  #Y_value"
      ],
      "execution_count": 84,
      "outputs": [
        {
          "output_type": "stream",
          "text": [
            "[ 1.62434536 -0.61175641]\n"
          ],
          "name": "stdout"
        }
      ]
    },
    {
      "cell_type": "code",
      "metadata": {
        "id": "L17kNiNbqDZ7",
        "colab_type": "code",
        "colab": {
          "base_uri": "https://localhost:8080/",
          "height": 68
        },
        "outputId": "4d734cbf-f243-40e3-910f-f07677e77001"
      },
      "source": [
        "theta = np.zeros(2)\n",
        "print(theta)\n",
        "print(theta[0])   #Value of m\n",
        "print(theta[1])   #Value of b"
      ],
      "execution_count": 85,
      "outputs": [
        {
          "output_type": "stream",
          "text": [
            "[0. 0.]\n",
            "0.0\n",
            "0.0\n"
          ],
          "name": "stdout"
        }
      ]
    },
    {
      "cell_type": "code",
      "metadata": {
        "id": "wttaLorEsq-u",
        "colab_type": "code",
        "colab": {}
      },
      "source": [
        "def loss_fun(data, theta):   # Loss function according to gradient descent\n",
        "  m = theta[0] \n",
        "  b = theta[1]\n",
        "  loss = 0\n",
        "  for i in range(0, len(data)):\n",
        "    x = data[i,0]\n",
        "    y = data[i, 1]\n",
        "    y_hat = (m*x + b)\n",
        "    loss = loss + ((y - (y_hat)) ** 2)\n",
        "  mse = loss/float(len(data))\n",
        "  return mse"
      ],
      "execution_count": 0,
      "outputs": []
    },
    {
      "cell_type": "code",
      "metadata": {
        "id": "G6PkbI8MsrJw",
        "colab_type": "code",
        "colab": {
          "base_uri": "https://localhost:8080/",
          "height": 34
        },
        "outputId": "4e9d33b5-6ae6-4f02-f70d-2dc6c94d48e3"
      },
      "source": [
        "loss_fun(data, theta)  # calculated loss"
      ],
      "execution_count": 92,
      "outputs": [
        {
          "output_type": "execute_result",
          "data": {
            "text/plain": [
              "0.9694142021246214"
            ]
          },
          "metadata": {
            "tags": []
          },
          "execution_count": 92
        }
      ]
    },
    {
      "cell_type": "code",
      "metadata": {
        "id": "9gD7IZDNuyZh",
        "colab_type": "code",
        "colab": {}
      },
      "source": [
        "def comp_grad(data, theta):\n",
        "  gradients = np.zeros(2)\n",
        "  m = theta[0]\n",
        "  b = theta[1]\n",
        "  N = float(len(data))\n",
        "  for i in range(0, len(data)):\n",
        "    x = data[i,0]\n",
        "    y = data[i,1]\n",
        "    gradients[0] += -(2/N)*x*(y-(m*x+b))\n",
        "    gradients[1] += -(2/N)*(y-(m*x+b))\n",
        "  eps = 1e-6\n",
        "  gradients = np.divide(gradients, N+eps)\n",
        "  return gradients"
      ],
      "execution_count": 0,
      "outputs": []
    },
    {
      "cell_type": "code",
      "metadata": {
        "id": "wirYnXGlxZcb",
        "colab_type": "code",
        "colab": {
          "base_uri": "https://localhost:8080/",
          "height": 34
        },
        "outputId": "cc4b7586-cc8d-4e65-8468-d303c0b00de0"
      },
      "source": [
        "comp_grad(data, theta)"
      ],
      "execution_count": 89,
      "outputs": [
        {
          "output_type": "execute_result",
          "data": {
            "text/plain": [
              "array([ 0.00025989, -0.00012344])"
            ]
          },
          "metadata": {
            "tags": []
          },
          "execution_count": 89
        }
      ]
    },
    {
      "cell_type": "code",
      "metadata": {
        "id": "4GAzs6UzyEUQ",
        "colab_type": "code",
        "colab": {
          "base_uri": "https://localhost:8080/",
          "height": 312
        },
        "outputId": "9eabe280-1177-47ef-f947-29c129469364"
      },
      "source": [
        "num_iterations = 50000\n",
        "lr = 1e-2\n",
        "loss = []\n",
        "theta = np.zeros(2)\n",
        "for t in range(num_iterations):\n",
        "#compute gradients\n",
        "  gradients = comp_grad(data, theta) #update parameter\n",
        "  theta = theta - (lr*gradients)\n",
        "#store the loss \n",
        "  loss.append(loss_fun(data,theta))\n",
        "\n",
        "plt.plot(loss)\n",
        "plt.grid()\n",
        "plt.xlabel('Training Iterations') \n",
        "plt.ylabel('Cost') \n",
        "plt.title('Gradient Descent')"
      ],
      "execution_count": 95,
      "outputs": [
        {
          "output_type": "execute_result",
          "data": {
            "text/plain": [
              "Text(0.5, 1.0, 'Gradient Descent')"
            ]
          },
          "metadata": {
            "tags": []
          },
          "execution_count": 95
        },
        {
          "output_type": "display_data",
          "data": {
            "image/png": "[encoded data removed]",
            "text/plain": [
              "<Figure size 432x288 with 1 Axes>"
            ]
          },
          "metadata": {
            "tags": []
          }
        }
      ]
    },
    {
      "cell_type": "code",
      "metadata": {
        "id": "LSNq4X9dIfD4",
        "colab_type": "code",
        "colab": {}
      },
      "source": [
        ""
      ],
      "execution_count": 0,
      "outputs": []
    }
  ]
}