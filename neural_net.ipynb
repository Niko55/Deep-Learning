{
  "nbformat": 4,
  "nbformat_minor": 0,
  "metadata": {
    "colab": {
      "name": "neural net.ipynb",
      "provenance": [],
      "collapsed_sections": []
    },
    "kernelspec": {
      "name": "python3",
      "display_name": "Python 3"
    }
  },
  "cells": [
    {
      "cell_type": "code",
      "metadata": {
        "id": "1vj5PKrLqORw",
        "colab_type": "code",
        "colab": {}
      },
      "source": [
        "import numpy as np\n",
        "import matplotlib.pyplot as plt\n",
        "%matplotlib inline"
      ],
      "execution_count": 0,
      "outputs": []
    },
    {
      "cell_type": "code",
      "metadata": {
        "id": "Vio52J6pqOUj",
        "colab_type": "code",
        "colab": {}
      },
      "source": [
        "x = np.array([ [0, 1], [1, 0], [1, 1],[0, 0] ])\n",
        "y = np.array([ [1], [1], [0], [0]])"
      ],
      "execution_count": 0,
      "outputs": []
    },
    {
      "cell_type": "code",
      "metadata": {
        "id": "El9AGm7nqOXV",
        "colab_type": "code",
        "colab": {}
      },
      "source": [
        "num_input = 2\n",
        "num_hidden = 5\n",
        "num_output = 1"
      ],
      "execution_count": 0,
      "outputs": []
    },
    {
      "cell_type": "code",
      "metadata": {
        "id": "wR5oIIDcqOaA",
        "colab_type": "code",
        "colab": {}
      },
      "source": [
        "Wxh = np.random.randn(num_input,num_hidden)\n",
        "bh = np.zeros((1,num_hidden))"
      ],
      "execution_count": 0,
      "outputs": []
    },
    {
      "cell_type": "code",
      "metadata": {
        "id": "lE_fxevfqOcr",
        "colab_type": "code",
        "colab": {}
      },
      "source": [
        "Why = np.random.randn (num_hidden,num_output)\n",
        "by = np.zeros((1,num_output))"
      ],
      "execution_count": 0,
      "outputs": []
    },
    {
      "cell_type": "code",
      "metadata": {
        "id": "xT_R17EuqOfN",
        "colab_type": "code",
        "colab": {}
      },
      "source": [
        "def sigmoid(z):\n",
        "    return 1 / (1+np.exp(-z))"
      ],
      "execution_count": 0,
      "outputs": []
    },
    {
      "cell_type": "code",
      "metadata": {
        "id": "VFnEORdFqOh5",
        "colab_type": "code",
        "colab": {}
      },
      "source": [
        "def sigmoid_derivative(z):\n",
        "    return np.exp(-z)/((1+np.exp(-z))**2)"
      ],
      "execution_count": 0,
      "outputs": []
    },
    {
      "cell_type": "code",
      "metadata": {
        "id": "ARsB2EVnqOku",
        "colab_type": "code",
        "colab": {}
      },
      "source": [
        "def forward_prop(x,Wxh,Why):\n",
        "    z1 = np.dot(x,Wxh) + bh\n",
        "    a1 = sigmoid(z1)\n",
        "    z2 = np.dot(a1,Why) + by\n",
        "    y_hat = sigmoid(z2)\n",
        "    \n",
        "    return z1,a1,z2,y_hat"
      ],
      "execution_count": 0,
      "outputs": []
    },
    {
      "cell_type": "code",
      "metadata": {
        "id": "hWSR_8vYqOnz",
        "colab_type": "code",
        "colab": {}
      },
      "source": [
        "def backword_prop(y_hat, z1, a1, z2):\n",
        "    delta2 = np.multiply(-(y-y_hat),sigmoid_derivative(z2))\n",
        "    dJ_dWhy = np.dot(a1.T, delta2)\n",
        "    delta1 = np.dot(delta2,Why.T)*sigmoid_derivative(z1)\n",
        "    dJ_dWxh = np.dot(x.T, delta1) \n",
        "\n",
        "    return dJ_dWxh, dJ_dWhy"
      ],
      "execution_count": 0,
      "outputs": []
    },
    {
      "cell_type": "code",
      "metadata": {
        "id": "N4jroC7DqOqu",
        "colab_type": "code",
        "colab": {}
      },
      "source": [
        "def cost_function(y, y_hat):\n",
        "    J = 0.5*sum((y-y_hat)**2)\n",
        "    \n",
        "    return J"
      ],
      "execution_count": 0,
      "outputs": []
    },
    {
      "cell_type": "code",
      "metadata": {
        "id": "zerJMOUTqOti",
        "colab_type": "code",
        "colab": {}
      },
      "source": [
        "alpha = 0.01\n",
        "num_iterations = 5000"
      ],
      "execution_count": 0,
      "outputs": []
    },
    {
      "cell_type": "code",
      "metadata": {
        "id": "Bf2xc6YiqOwN",
        "colab_type": "code",
        "colab": {}
      },
      "source": [
        "cost = []\n",
        "for i in range(num_iterations):\n",
        "    \n",
        "    #perform forward propagation and predict output\n",
        "    z1,a1,z2,y_hat = forward_prop(x,Wxh,Why)\n",
        "    \n",
        "    #perform backward propagation and calculate gradients\n",
        "    dJ_dWxh, dJ_dWhy = backword_prop(y_hat, z1, a1, z2)\n",
        "        \n",
        "    #update the weights\n",
        "    Wxh = Wxh -alpha * dJ_dWxh\n",
        "    Why = Why -alpha * dJ_dWhy\n",
        "    \n",
        "    #compute cost\n",
        "    c = cost_function(y, y_hat)\n",
        "    \n",
        "    #store the cost\n",
        "    cost.append(c)"
      ],
      "execution_count": 0,
      "outputs": []
    },
    {
      "cell_type": "code",
      "metadata": {
        "id": "n9GEdj-oqOzS",
        "colab_type": "code",
        "colab": {
          "base_uri": "https://localhost:8080/",
          "height": 312
        },
        "outputId": "8116ad11-6e12-4a73-e35e-ebeb1675f298"
      },
      "source": [
        "plt.grid()\n",
        "plt.plot(range(num_iterations),cost)\n",
        "\n",
        "plt.title('Cost Function')\n",
        "plt.xlabel('Training Iterations')\n",
        "plt.ylabel('Cost')"
      ],
      "execution_count": 79,
      "outputs": [
        {
          "output_type": "execute_result",
          "data": {
            "text/plain": [
              "Text(0, 0.5, 'Cost')"
            ]
          },
          "metadata": {
            "tags": []
          },
          "execution_count": 79
        },
        {
          "output_type": "display_data",
          "data": {
            "image/png": "[encoded data removed]",
            "text/plain": [
              "<Figure size 432x288 with 1 Axes>"
            ]
          },
          "metadata": {
            "tags": []
          }
        }
      ]
    }
  ]
}